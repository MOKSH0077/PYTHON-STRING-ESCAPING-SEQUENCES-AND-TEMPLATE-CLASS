{
 "cells": [
  {
   "cell_type": "markdown",
   "id": "e9e8d524-c116-4d32-a1a2-7976a50bbeb1",
   "metadata": {},
   "source": [
    "# DAY 3 OF INFINITE CODING"
   ]
  },
  {
   "cell_type": "markdown",
   "id": "c25d7b6a-c6b2-40d0-850f-a1668c6aa578",
   "metadata": {},
   "source": [
    "# STRING TEMPLATE CLASS AND ESCAPING SEQUENCES IN PYTHON "
   ]
  },
  {
   "cell_type": "markdown",
   "id": "b2f4bf68-e7dd-435f-b0e2-f2a7e196caa1",
   "metadata": {},
   "source": [
    "# ESCAPING SEQUENCES IN PYHTON"
   ]
  },
  {
   "cell_type": "code",
   "execution_count": 10,
   "id": "ece2b752-57d7-4b77-9694-9ac05c5332c0",
   "metadata": {},
   "outputs": [
    {
     "name": "stdout",
     "output_type": "stream",
     "text": [
      "I'AM A GOOD PERSON\n"
     ]
    }
   ],
   "source": [
    "mystr='I\\'AM A GOOD PERSON'\n",
    "print(mystr)\n"
   ]
  },
  {
   "cell_type": "code",
   "execution_count": 11,
   "id": "05c405fc-24f9-4102-a656-0e461c917a08",
   "metadata": {},
   "outputs": [
    {
     "name": "stdout",
     "output_type": "stream",
     "text": [
      " I AM  \"GOOD\" \n"
     ]
    }
   ],
   "source": [
    "mystr=\" I AM  \\\"GOOD\\\" \" \n",
    "print(mystr)"
   ]
  },
  {
   "cell_type": "code",
   "execution_count": 12,
   "id": "976d1355-10b0-42a2-b6b2-4020a66050d7",
   "metadata": {},
   "outputs": [
    {
     "name": "stdout",
     "output_type": "stream",
     "text": [
      "HEY \\'HIE\\' HELLO \n"
     ]
    }
   ],
   "source": [
    "mystr = r'HEY \\'HIE\\' HELLO '\n",
    "print(mystr)"
   ]
  },
  {
   "cell_type": "code",
   "execution_count": 13,
   "id": "64641e22-6c28-4249-b073-0723c305f3a5",
   "metadata": {},
   "outputs": [
    {
     "name": "stdout",
     "output_type": "stream",
     "text": [
      " HEY \\nHOW \\nARE \\nYOU \n"
     ]
    }
   ],
   "source": [
    "mystr=' HEY \\\\nHOW \\\\nARE \\\\nYOU '\n",
    "print(mystr)"
   ]
  },
  {
   "cell_type": "code",
   "execution_count": 14,
   "id": "8c025689-0cbc-495c-8c3d-2f87844bd686",
   "metadata": {},
   "outputs": [
    {
     "name": "stdout",
     "output_type": "stream",
     "text": [
      " HEY 'HOW \\_ARE \\_YOU \n"
     ]
    }
   ],
   "source": [
    "mystr=' HEY \\'HOW \\_ARE \\_YOU '\n",
    "print(mystr)"
   ]
  },
  {
   "cell_type": "code",
   "execution_count": 15,
   "id": "97de24df-c7f6-48b0-a51a-3fde3a6263be",
   "metadata": {},
   "outputs": [
    {
     "name": "stdout",
     "output_type": "stream",
     "text": [
      " HEY \\_HOW \\_ARE \\_YOU \n"
     ]
    }
   ],
   "source": [
    "mystr=' HEY \\_HOW \\_ARE \\_YOU '\n",
    "print(mystr)"
   ]
  },
  {
   "cell_type": "code",
   "execution_count": 16,
   "id": "f6931206-6a5e-4a4f-88ca-4c7c73168a7a",
   "metadata": {},
   "outputs": [
    {
     "name": "stdout",
     "output_type": "stream",
     "text": [
      " HEY \\HOW \\ARE \\YOU \n"
     ]
    }
   ],
   "source": [
    "mystr=' HEY \\\\HOW \\\\ARE \\\\YOU '\n",
    "print(mystr)"
   ]
  },
  {
   "cell_type": "code",
   "execution_count": 17,
   "id": "1aa0e95c-eaf3-4898-a9de-3f279f6972d5",
   "metadata": {},
   "outputs": [
    {
     "name": "stdout",
     "output_type": "stream",
     "text": [
      " HEY \n",
      " HELLO \n"
     ]
    }
   ],
   "source": [
    "mystr=' HEY \\n HELLO '\n",
    "print(mystr)"
   ]
  },
  {
   "cell_type": "code",
   "execution_count": 18,
   "id": "b2ee8505-bd9a-4fa5-9d4a-2f8053de0e9e",
   "metadata": {},
   "outputs": [
    {
     "name": "stdout",
     "output_type": "stream",
     "text": [
      " HEY \t HELLO \n"
     ]
    }
   ],
   "source": [
    "mystr=' HEY \\t HELLO '\n",
    "print(mystr)"
   ]
  },
  {
   "cell_type": "markdown",
   "id": "2ca68150-3b9f-45f5-a127-1dc5548dcb9c",
   "metadata": {},
   "source": [
    "Escaping sequences Python ya kisi bhi programming language mein special characters represent karne ke liye use hote hain, jine directly likhna mushkil hota hai. Yeh backslash (\\) ke saath start hote hain aur kuch specific characters ko denote karte hain. Yahaan inka short summary diya gaya hai:\n",
    "\n",
    "\\n (Newline): Line change karne ke liye use hota hai, ek nayi line start ho jaati hai.\n",
    "\n",
    "\\t (Tab): Horizontal tab add karta hai, space zyada dikhane ke liye.\n",
    "\n",
    "\\\\ (Backslash): Ek backslash character ko represent karta hai, kyunki single backslash \n",
    "escaping ke liye use hota hai.\n",
    "\n",
    "\\' (Single Quote): String mein single quote add karne ke liye, taaki string khatam na ho.\n",
    "\n",
    "\\\" (Double Quote): String mein double quote add karne ke liye, bina string ko close kiye.\n",
    "\n",
    "\\r (Carriage Return): Cursor ko line ke start par le aata hai, jaise typewriter mein hota hai.\n",
    "\n",
    "\\b (Backspace): Ek character ko delete karta hai, cursor ko ek position peeche le jaata hai.\n",
    "\n",
    "\\f (Form Feed): Next line par cursor ko le jaata hai, mostly printers ke liye hota tha.\n",
    "\n",
    "\\a (Bell/Alert): System mein bell ya beep sound generate karta hai.\n",
    "\n",
    "\\v (Vertical Tab): Vertical space dene ke liye use hota hai, jaise horizontal tab, bas yeh \n",
    "vertically karta hai.\n",
    "\n",
    "Escaping sequences ka use strings mein special characters likhne ke liye ya output format karne ke liye hota hai, jisse code readable aur effective rahe."
   ]
  },
  {
   "cell_type": "markdown",
   "id": "c3380067-fee1-4dba-8055-e07fc02b5037",
   "metadata": {},
   "source": [
    "#  STRING TEMPLATE CLASS"
   ]
  },
  {
   "cell_type": "code",
   "execution_count": 19,
   "id": "637c0b6a-637a-414e-a46b-8603a71898f9",
   "metadata": {},
   "outputs": [],
   "source": [
    "from string import Template"
   ]
  },
  {
   "cell_type": "code",
   "execution_count": 38,
   "id": "50c80f10-025c-49ce-a4a7-b830f4d0bfb1",
   "metadata": {},
   "outputs": [
    {
     "name": "stdout",
     "output_type": "stream",
     "text": [
      " my name is XYZ \n"
     ]
    }
   ],
   "source": [
    "myex=Template(' my name is $name ')\n",
    "x=myex.safe_substitute(name='XYZ')\n",
    "print(x)\n"
   ]
  },
  {
   "cell_type": "code",
   "execution_count": 39,
   "id": "99c7eed5-a737-48f4-ada5-7720ccc822ff",
   "metadata": {},
   "outputs": [
    {
     "name": "stdout",
     "output_type": "stream",
     "text": [
      " my job is software engineer i earn 50k$\n"
     ]
    }
   ],
   "source": [
    "myex2=Template(' my job is $job i earn 50k$$')\n",
    "print(myex2.safe_substitute(job='software engineer'))"
   ]
  },
  {
   "cell_type": "code",
   "execution_count": 40,
   "id": "32370e7a-7305-4b24-9cb6-307225cc8356",
   "metadata": {},
   "outputs": [
    {
     "name": "stdout",
     "output_type": "stream",
     "text": [
      " my name is ZZZ and ZZZy also \n"
     ]
    }
   ],
   "source": [
    "myex3=Template(' my name is $name and ${name}y also ')\n",
    "print(myex3.safe_substitute(name='ZZZ'))"
   ]
  },
  {
   "cell_type": "markdown",
   "id": "baea203b-d05e-44c9-855d-d58a9e4208b4",
   "metadata": {},
   "source": [
    "String Template class Python mein ek module hai jo string library mein aata hai, aur yeh template strings banane ke liye use hota hai. Yahaan iska short summary hai:\n",
    "\n",
    "Purpose: String Template class ka use strings ko format karne ke liye hota hai, jisme variables ko placeholders se replace kiya jaata hai, simple tareeke se, bina complex syntax ke.\n",
    "\n",
    "Placeholder: Placeholder $ symbol se shuru hota hai. Variables ko string mein $variable_name ki form mein likhte hain.\n",
    "\n",
    "Safe Substitution: Agar placeholder ka variable missing ho toh error raise nahi hota, safe_substitute() method se use kar sakte hain jisse koi error nahi aata.\n",
    "\n",
    "No Expressions: String Template ke andar complex expressions ya calculations allowed nahi hain, sirf variables replace hote hain. Yeh f-strings se simpler hai lekin safety aur readability ke liye achha hota hai.\n",
    "\n",
    "Substitute Method: Yeh method placeholder values ko replace karta hai. Agar variable missing ho toh error raise karta hai.\n",
    "\n",
    "Security: String Template ko use karne ka ek benefit yeh hai ki yeh format karne mein safe hota hai, specially jab user input se formatting karni ho, kyunki f-strings aur % formatting mein code injection ka risk hota hai.\n",
    "\n",
    "Customization: Aap apna custom delimiter bhi define kar sakte hain Template ke saath, agar $ ke jagah kuch aur use karna ho.\n",
    "\n",
    "String Template class un situations mein helpful hai jahan simple substitution chahiye, bina zyada complex formatting ke, aur security bhi zaroori ho."
   ]
  },
  {
   "cell_type": "markdown",
   "id": "abd144ce-98ae-4fb4-8fb2-10f12317d063",
   "metadata": {},
   "source": [
    "# THANK YOU"
   ]
  },
  {
   "cell_type": "code",
   "execution_count": null,
   "id": "ea869ec9-e2c6-47cc-aca2-b95dfc372945",
   "metadata": {},
   "outputs": [],
   "source": []
  },
  {
   "cell_type": "code",
   "execution_count": null,
   "id": "b3969f40-e809-4128-a01a-851effb82376",
   "metadata": {},
   "outputs": [],
   "source": []
  },
  {
   "cell_type": "code",
   "execution_count": null,
   "id": "9b2a4492-09b5-45eb-a408-2481a53399ee",
   "metadata": {},
   "outputs": [],
   "source": []
  },
  {
   "cell_type": "code",
   "execution_count": null,
   "id": "1fa9721a-7818-4b96-bd5c-5c0cc2a609d4",
   "metadata": {},
   "outputs": [],
   "source": []
  },
  {
   "cell_type": "code",
   "execution_count": null,
   "id": "d10c435e-f4ab-476f-bfe1-74a1fd505eb1",
   "metadata": {},
   "outputs": [],
   "source": []
  },
  {
   "cell_type": "code",
   "execution_count": null,
   "id": "9089bb46-ff39-4b24-87cb-8b13c1aa426d",
   "metadata": {},
   "outputs": [],
   "source": []
  },
  {
   "cell_type": "code",
   "execution_count": null,
   "id": "d4cedc00-1ee7-4149-ad25-52e3cc1d655b",
   "metadata": {},
   "outputs": [],
   "source": []
  }
 ],
 "metadata": {
  "kernelspec": {
   "display_name": "Python 3 (ipykernel)",
   "language": "python",
   "name": "python3"
  },
  "language_info": {
   "codemirror_mode": {
    "name": "ipython",
    "version": 3
   },
   "file_extension": ".py",
   "mimetype": "text/x-python",
   "name": "python",
   "nbconvert_exporter": "python",
   "pygments_lexer": "ipython3",
   "version": "3.11.7"
  }
 },
 "nbformat": 4,
 "nbformat_minor": 5
}
